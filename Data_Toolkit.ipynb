{
  "nbformat": 4,
  "nbformat_minor": 0,
  "metadata": {
    "colab": {
      "provenance": []
    },
    "kernelspec": {
      "name": "python3",
      "display_name": "Python 3"
    },
    "language_info": {
      "name": "python"
    }
  },
  "cells": [
    {
      "cell_type": "markdown",
      "source": [
        "1. What is NumPy, and why is it widely used in Python?\n",
        "\n",
        "NumPy (Numerical Python) is a library for high-performance numerical computing in Python. It provides support for multidimensional arrays and optimized mathematical functions.\n",
        "✔ Fast (written in C under the hood)\n",
        "✔ Memory-efficient compared to Python lists\n",
        "✔ Basis for other libraries (Pandas, SciPy, Scikit-learn, etc.)\n",
        "\n",
        "2. How does broadcasting work in NumPy?\n",
        "\n",
        "Broadcasting allows NumPy to perform operations on arrays of different shapes by automatically expanding dimensions where possible.\n",
        "Example:\n",
        "\n",
        "a = np.array([1,2,3])\n",
        "b = 2\n",
        "a + b  # [3,4,5]\n",
        "\n",
        "\n",
        "Here, b is “broadcasted” to match the shape of a.\n",
        "\n",
        "3. What is a Pandas DataFrame?\n",
        "\n",
        "A DataFrame is a 2D tabular data structure in Pandas with labeled rows and columns, similar to an Excel sheet or SQL table. It allows for efficient data manipulation and analysis.\n",
        "\n",
        "4. Explain the use of the groupby() method in Pandas.\n",
        "\n",
        "groupby() is used for splitting data into groups based on some criteria, applying functions (like mean, sum), and combining results.\n",
        "Example:\n",
        "\n",
        "df.groupby('Category')['Sales'].sum()\n",
        "\n",
        "5. Why is Seaborn preferred for statistical visualizations?\n",
        "\n",
        "Seaborn is built on Matplotlib but:\n",
        "✔ Provides high-level APIs for common statistical plots\n",
        "✔ Has built-in support for Pandas DataFrames\n",
        "✔ Provides attractive default styles and color palettes\n",
        "✔ Simplifies plots like boxplots, violin plots, and heatmaps\n",
        "\n",
        "6. What are the differences between NumPy arrays and Python lists?\n",
        "\n",
        "Speed: NumPy arrays are faster (C-optimized).\n",
        "\n",
        "Memory: Arrays use less memory.\n",
        "\n",
        "Functionality: Arrays support vectorized operations; lists do not.\n",
        "\n",
        "Homogeneity: Arrays require all elements to be of the same type; lists can store mixed types.\n",
        "\n",
        "7. What is a heatmap, and when should it be used?\n",
        "\n",
        "A heatmap is a data visualization where values are represented as colors in a matrix.\n",
        "✔ Useful for correlation matrices, missing value analysis, or any 2D data where intensity matters.\n",
        "\n",
        "8. What does the term “vectorized operation” mean in NumPy?\n",
        "\n",
        "Vectorized operations mean applying a function to an entire array without explicit loops.\n",
        "Example:\n",
        "\n",
        "a = np.array([1,2,3])\n",
        "a * 2   # [2,4,6]\n",
        "\n",
        "\n",
        "This is faster than looping over elements.\n",
        "\n",
        "9. How does Matplotlib differ from Plotly?\n",
        "\n",
        "Matplotlib: Static, publication-quality 2D plots; customizable but more code-heavy.\n",
        "\n",
        "Plotly: Interactive, browser-based, supports zoom/hover, better for dashboards.\n",
        "\n",
        "10. What is the significance of hierarchical indexing in Pandas?\n",
        "\n",
        "Hierarchical (multi-level) indexing allows multiple levels of row/column labels.\n",
        "✔ Enables working with higher-dimensional data in 2D form.\n",
        "✔ Useful for grouped/aggregated data.\n",
        "\n",
        "11. What is the role of Seaborn’s pairplot() function?\n",
        "\n",
        "pairplot() creates scatterplots and histograms for pairwise relationships among numeric variables.\n",
        "✔ Great for exploring correlations in datasets.\n",
        "\n",
        "12. What is the purpose of the describe() function in Pandas?\n",
        "\n",
        "describe() generates summary statistics (count, mean, std, min, quartiles, max) for numeric (or categorical with include='all') columns.\n",
        "\n",
        "13. Why is handling missing data important in Pandas?\n",
        "\n",
        "Missing data can bias results, reduce accuracy, or break computations. Pandas provides tools like dropna(), fillna(), and interpolation to handle them.\n",
        "\n",
        "14. What are the benefits of using Plotly for data visualization?\n",
        "\n",
        "✔ Interactive visualizations\n",
        "✔ Built-in dashboard support\n",
        "✔ Easy integration with web apps (Dash)\n",
        "✔ Handles large datasets and 3D plots\n",
        "\n",
        "15. How does NumPy handle multidimensional arrays?\n",
        "\n",
        "NumPy supports n-dimensional arrays (ndarray). Each array has:\n",
        "\n",
        "Shape (dimensions)\n",
        "\n",
        "Strides (steps in memory)\n",
        "\n",
        "Data type (dtype)\n",
        "This allows for efficient mathematical operations across multiple axes.\n",
        "\n",
        "16. What is the role of Bokeh in data visualization?\n",
        "\n",
        "Bokeh is a Python library for interactive, web-ready visualizations.\n",
        "✔ Produces plots as HTML/Javascript\n",
        "✔ Better suited for dashboards and web embedding compared to Matplotlib.\n",
        "\n",
        "17. Explain the difference between apply() and map() in Pandas.\n",
        "\n",
        "map(): Works element-wise on a Series.\n",
        "\n",
        "apply(): Works on rows or columns of a DataFrame or on a Series.\n",
        "Example:\n",
        "\n",
        "df['col'].map(lambda x: x*2)\n",
        "df.apply(np.sum, axis=0)  # sum per column\n",
        "\n",
        "18. What are some advanced features of NumPy?\n",
        "\n",
        "Linear algebra (np.linalg)\n",
        "\n",
        "FFTs (np.fft)\n",
        "\n",
        "Random sampling (np.random)\n",
        "\n",
        "Memory mapping for big data\n",
        "\n",
        "Broadcasting rules\n",
        "\n",
        "Masked arrays\n",
        "\n",
        "19. How does Pandas simplify time series analysis?\n",
        "\n",
        "✔ Built-in datetime support\n",
        "✔ Resampling and frequency conversion (resample())\n",
        "✔ Rolling window functions (rolling())\n",
        "✔ Time zone handling\n",
        "✔ Easy indexing with DatetimeIndex\n",
        "\n",
        "20. What is the role of a pivot table in Pandas?\n",
        "\n",
        "pivot_table() reshapes data for summarization.\n",
        "✔ Similar to Excel pivot tables\n",
        "✔ Allows grouping, aggregation, and comparison across multiple dimensions\n",
        "\n",
        "21. Why is NumPy’s array slicing faster than Python’s list slicing?\n",
        "\n",
        "Arrays are stored in contiguous memory blocks, so slicing just creates a view (no data copy).\n",
        "\n",
        "Lists store references to objects (scattered in memory), making slicing slower.\n",
        "\n",
        "22. What are some common use cases for Seaborn?\n",
        "\n",
        "Exploring distributions (histplot, kdeplot)\n",
        "\n",
        "Comparing categories (boxplot, barplot, violinplot)\n",
        "\n",
        "Correlation analysis (heatmap, pairplot)\n",
        "\n",
        "Regression analysis (regplot, lmplot)\n",
        "\n",
        "Multi-variable visualizations with style and ease"
      ],
      "metadata": {
        "id": "d5qcRgXeMcMi"
      }
    },
    {
      "cell_type": "code",
      "source": [
        "1. Create a 2D NumPy array and calculate the sum of each row\n",
        "import numpy as np\n",
        "\n",
        "arr = np.array([[1, 2, 3],\n",
        "                [4, 5, 6],\n",
        "                [7, 8, 9]])\n",
        "\n",
        "row_sums = arr.sum(axis=1)\n",
        "print(\"Row sums:\", row_sums)"
      ],
      "metadata": {
        "id": "E01onJ5-Msst"
      },
      "execution_count": null,
      "outputs": []
    },
    {
      "cell_type": "code",
      "source": [
        "2. Write a Pandas script to find the mean of a specific column in a DataFrame\n",
        "import pandas as pd\n",
        "\n",
        "df = pd.DataFrame({\n",
        "    'Name': ['Alice', 'Bob', 'Charlie'],\n",
        "    'Age': [25, 30, 35]\n",
        "})\n",
        "\n",
        "mean_age = df['Age'].mean()\n",
        "print(\"Mean Age:\", mean_age)"
      ],
      "metadata": {
        "id": "stQbFzXNM2NG"
      },
      "execution_count": null,
      "outputs": []
    },
    {
      "cell_type": "code",
      "source": [
        "3. Create a scatter plot using Matplotlib\n",
        "import matplotlib.pyplot as plt\n",
        "import numpy as np\n",
        "\n",
        "x = np.random.rand(50)\n",
        "y = np.random.rand(50)\n",
        "\n",
        "plt.scatter(x, y, color='blue', alpha=0.7)\n",
        "plt.xlabel(\"X-axis\")\n",
        "plt.ylabel(\"Y-axis\")\n",
        "plt.title(\"Scatter Plot\")\n",
        "plt.show()"
      ],
      "metadata": {
        "id": "oXSM2QUzM6sn"
      },
      "execution_count": null,
      "outputs": []
    },
    {
      "cell_type": "code",
      "source": [
        "4. Calculate the correlation matrix using Seaborn and visualize with a heatmap\n",
        "import seaborn as sns\n",
        "import matplotlib.pyplot as plt\n",
        "import pandas as pd\n",
        "\n",
        "df = pd.DataFrame({\n",
        "    'A': [1, 2, 3, 4, 5],\n",
        "    'B': [5, 4, 3, 2, 1],\n",
        "    'C': [2, 3, 4, 5, 6]\n",
        "})\n",
        "\n",
        "corr = df.corr()\n",
        "sns.heatmap(corr, annot=True, cmap=\"coolwarm\")\n",
        "plt.title(\"Correlation Heatmap\")\n",
        "plt.show()"
      ],
      "metadata": {
        "id": "2tWIVkV1M-Ky"
      },
      "execution_count": null,
      "outputs": []
    },
    {
      "cell_type": "code",
      "source": [
        "5. Generate a bar plot using Plotly\n",
        "import plotly.express as px\n",
        "\n",
        "data = {'Fruits': ['Apple', 'Banana', 'Cherry'],\n",
        "        'Quantity': [10, 20, 15]}\n",
        "\n",
        "fig = px.bar(data, x='Fruits', y='Quantity', title=\"Fruit Quantities\")\n",
        "fig.show()"
      ],
      "metadata": {
        "id": "OMEFQ7fHNBCK"
      },
      "execution_count": null,
      "outputs": []
    },
    {
      "cell_type": "code",
      "source": [
        "6. Create a DataFrame and add a new column based on an existing column\n",
        "import pandas as pd\n",
        "\n",
        "df = pd.DataFrame({\n",
        "    'Name': ['Alice', 'Bob', 'Charlie'],\n",
        "    'Salary': [5000, 6000, 7000]\n",
        "})\n",
        "\n",
        "df['Bonus'] = df['Salary'] * 0.1\n",
        "print(df)"
      ],
      "metadata": {
        "id": "znkAssMKNEjB"
      },
      "execution_count": null,
      "outputs": []
    },
    {
      "cell_type": "code",
      "source": [
        "7. Perform element-wise multiplication of two NumPy arrays\n",
        "import numpy as np\n",
        "\n",
        "a = np.array([1, 2, 3])\n",
        "b = np.array([4, 5, 6])\n",
        "\n",
        "result = a * b\n",
        "print(\"Element-wise multiplication:\", result)"
      ],
      "metadata": {
        "id": "geOxCGbXNH0s"
      },
      "execution_count": null,
      "outputs": []
    },
    {
      "cell_type": "code",
      "source": [
        "8. Create a line plot with multiple lines using Matplotlib\n",
        "import matplotlib.pyplot as plt\n",
        "import numpy as np\n",
        "\n",
        "x = np.linspace(0, 10, 100)\n",
        "y1 = np.sin(x)\n",
        "y2 = np.cos(x)\n",
        "\n",
        "plt.plot(x, y1, label=\"sin(x)\")\n",
        "plt.plot(x, y2, label=\"cos(x)\")\n",
        "plt.xlabel(\"X-axis\")\n",
        "plt.ylabel(\"Y-axis\")\n",
        "plt.title(\"Multiple Line Plot\")\n",
        "plt.legend()\n",
        "plt.show()"
      ],
      "metadata": {
        "id": "sR6k04H9NKFK"
      },
      "execution_count": null,
      "outputs": []
    },
    {
      "cell_type": "code",
      "source": [
        "9. Generate a Pandas DataFrame and filter rows where a column value is greater than a threshold\n",
        "import pandas as pd\n",
        "\n",
        "df = pd.DataFrame({\n",
        "    'Name': ['Alice', 'Bob', 'Charlie'],\n",
        "    'Score': [85, 40, 92]\n",
        "})\n",
        "\n",
        "filtered_df = df[df['Score'] > 50]\n",
        "print(filtered_df)"
      ],
      "metadata": {
        "id": "YUvLVgGWNM0M"
      },
      "execution_count": null,
      "outputs": []
    },
    {
      "cell_type": "code",
      "source": [
        "10. Create a histogram using Seaborn to visualize a distribution\n",
        "import seaborn as sns\n",
        "import numpy as np\n",
        "import matplotlib.pyplot as plt\n",
        "\n",
        "data = np.random.randn(1000)  # Normal distribution\n",
        "sns.histplot(data, bins=30, kde=True)\n",
        "plt.title(\"Histogram with KDE\")\n",
        "plt.show()"
      ],
      "metadata": {
        "id": "zr16InBXNR1B"
      },
      "execution_count": null,
      "outputs": []
    },
    {
      "cell_type": "code",
      "source": [
        "11. Perform matrix multiplication using NumPy\n",
        "import numpy as np\n",
        "\n",
        "A = np.array([[1, 2],\n",
        "              [3, 4]])\n",
        "\n",
        "B = np.array([[5, 6],\n",
        "              [7, 8]])\n",
        "\n",
        "C = np.dot(A, B)\n",
        "print(\"Matrix multiplication:\\n\", C)"
      ],
      "metadata": {
        "id": "Ly9FaJMHNVGc"
      },
      "execution_count": null,
      "outputs": []
    },
    {
      "cell_type": "code",
      "source": [
        "12. Use Pandas to load a CSV file and display its first 5 rows\n",
        "import pandas as pd\n",
        "\n",
        "df = pd.read_csv(\"data.csv\")  # replace with your filename\n",
        "print(df.head())"
      ],
      "metadata": {
        "id": "6Ek9x0QwNV6h"
      },
      "execution_count": null,
      "outputs": []
    },
    {
      "cell_type": "code",
      "source": [
        "13. Create a 3D scatter plot using Plotly\n",
        "import plotly.express as px\n",
        "import numpy as np\n",
        "\n",
        "df = pd.DataFrame({\n",
        "    'x': np.random.rand(50),\n",
        "    'y': np.random.rand(50),\n",
        "    'z': np.random.rand(50),\n",
        "    'color': np.random.rand(50)\n",
        "})\n",
        "\n",
        "fig = px.scatter_3d(df, x='x', y='y', z='z', color='color', size='color')\n",
        "fig.show()"
      ],
      "metadata": {
        "id": "Phz3doQ0NZna"
      },
      "execution_count": null,
      "outputs": []
    }
  ]
}